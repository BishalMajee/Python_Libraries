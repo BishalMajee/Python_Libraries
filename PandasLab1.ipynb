{
 "cells": [
  {
   "cell_type": "code",
   "execution_count": 1,
   "id": "962e36fb",
   "metadata": {},
   "outputs": [
    {
     "name": "stdout",
     "output_type": "stream",
     "text": [
      "   Name  Age Department  Salary\n",
      "0  John   28         IT   50000\n",
      "1  Jane   32         HR   55000\n",
      "2   Jim   24    Finance   60000\n",
      "3  Jack   29         IT   52000\n"
     ]
    }
   ],
   "source": [
    "import pandas as pd\n",
    "\n",
    "data = {\n",
    "    'Name': ['John', 'Jane', 'Jim', 'Jack'],\n",
    "    'Age': [28, 32, 24, 29],\n",
    "    'Department': ['IT', 'HR', 'Finance', 'IT'],\n",
    "    'Salary': [50000, 55000, 60000, 52000]\n",
    "}\n",
    "df = pd.DataFrame(data)\n",
    "print(df)\n"
   ]
  },
  {
   "cell_type": "code",
   "execution_count": 2,
   "id": "ebaa5d4c",
   "metadata": {},
   "outputs": [],
   "source": [
    "df.set_index('Name', inplace=True)\n"
   ]
  },
  {
   "cell_type": "code",
   "execution_count": 3,
   "id": "58164b64",
   "metadata": {},
   "outputs": [
    {
     "data": {
      "text/html": [
       "<div>\n",
       "<style scoped>\n",
       "    .dataframe tbody tr th:only-of-type {\n",
       "        vertical-align: middle;\n",
       "    }\n",
       "\n",
       "    .dataframe tbody tr th {\n",
       "        vertical-align: top;\n",
       "    }\n",
       "\n",
       "    .dataframe thead th {\n",
       "        text-align: right;\n",
       "    }\n",
       "</style>\n",
       "<table border=\"1\" class=\"dataframe\">\n",
       "  <thead>\n",
       "    <tr style=\"text-align: right;\">\n",
       "      <th></th>\n",
       "      <th>Age</th>\n",
       "      <th>Department</th>\n",
       "      <th>Salary</th>\n",
       "    </tr>\n",
       "    <tr>\n",
       "      <th>Name</th>\n",
       "      <th></th>\n",
       "      <th></th>\n",
       "      <th></th>\n",
       "    </tr>\n",
       "  </thead>\n",
       "  <tbody>\n",
       "    <tr>\n",
       "      <th>John</th>\n",
       "      <td>28</td>\n",
       "      <td>IT</td>\n",
       "      <td>50000</td>\n",
       "    </tr>\n",
       "    <tr>\n",
       "      <th>Jane</th>\n",
       "      <td>32</td>\n",
       "      <td>HR</td>\n",
       "      <td>55000</td>\n",
       "    </tr>\n",
       "    <tr>\n",
       "      <th>Jim</th>\n",
       "      <td>24</td>\n",
       "      <td>Finance</td>\n",
       "      <td>60000</td>\n",
       "    </tr>\n",
       "    <tr>\n",
       "      <th>Jack</th>\n",
       "      <td>29</td>\n",
       "      <td>IT</td>\n",
       "      <td>52000</td>\n",
       "    </tr>\n",
       "  </tbody>\n",
       "</table>\n",
       "</div>"
      ],
      "text/plain": [
       "      Age Department  Salary\n",
       "Name                        \n",
       "John   28         IT   50000\n",
       "Jane   32         HR   55000\n",
       "Jim    24    Finance   60000\n",
       "Jack   29         IT   52000"
      ]
     },
     "execution_count": 3,
     "metadata": {},
     "output_type": "execute_result"
    }
   ],
   "source": [
    "df"
   ]
  },
  {
   "cell_type": "code",
   "execution_count": 4,
   "id": "84704bb2",
   "metadata": {},
   "outputs": [
    {
     "name": "stdout",
     "output_type": "stream",
     "text": [
      "Rows where Department is 'IT':\n",
      "      Age Department  Salary\n",
      "Name                        \n",
      "John   28         IT   50000\n",
      "Jack   29         IT   52000\n"
     ]
    }
   ],
   "source": [
    "it_department = df[df['Department'] == 'IT']\n",
    "print(\"Rows where Department is 'IT':\")\n",
    "print(it_department)"
   ]
  },
  {
   "cell_type": "code",
   "execution_count": 5,
   "id": "99e69ff2",
   "metadata": {},
   "outputs": [
    {
     "name": "stdout",
     "output_type": "stream",
     "text": [
      "\n",
      "Rows where Age is greater than 28:\n",
      "      Age Department  Salary\n",
      "Name                        \n",
      "Jane   32         HR   55000\n",
      "Jack   29         IT   52000\n"
     ]
    }
   ],
   "source": [
    "age_greater_than_28 = df[df['Age'] > 28]\n",
    "print(\"\\nRows where Age is greater than 28:\")\n",
    "print(age_greater_than_28)"
   ]
  },
  {
   "cell_type": "code",
   "execution_count": 6,
   "id": "b61bb4cc",
   "metadata": {},
   "outputs": [
    {
     "name": "stdout",
     "output_type": "stream",
     "text": [
      "\n",
      "DataFrame with Bonus column added:\n",
      "      Age Department  Salary   Bonus\n",
      "Name                                \n",
      "John   28         IT   50000  5000.0\n",
      "Jane   32         HR   55000  5500.0\n",
      "Jim    24    Finance   60000  6000.0\n",
      "Jack   29         IT   52000  5200.0\n"
     ]
    }
   ],
   "source": [
    "df['Bonus'] = df['Salary'] * 0.10\n",
    "print(\"\\nDataFrame with Bonus column added:\")\n",
    "print(df)"
   ]
  },
  {
   "cell_type": "code",
   "execution_count": 7,
   "id": "17590965",
   "metadata": {},
   "outputs": [
    {
     "name": "stdout",
     "output_type": "stream",
     "text": [
      "\n",
      "DataFrame with increased Salary for Finance department:\n",
      "      Age Department  Salary   Bonus\n",
      "Name                                \n",
      "John   28         IT   50000  5000.0\n",
      "Jane   32         HR   55000  5500.0\n",
      "Jim    24    Finance   63000  6000.0\n",
      "Jack   29         IT   52000  5200.0\n"
     ]
    }
   ],
   "source": [
    "df.loc[df['Department'] == 'Finance', 'Salary'] *= 1.05\n",
    "print(\"\\nDataFrame with increased Salary for Finance department:\")\n",
    "print(df)"
   ]
  },
  {
   "cell_type": "code",
   "execution_count": 8,
   "id": "e19f52ad",
   "metadata": {},
   "outputs": [
    {
     "name": "stdout",
     "output_type": "stream",
     "text": [
      "\n",
      "DataFrame with Age updated for HR department:\n",
      "      Age Department  Salary   Bonus\n",
      "Name                                \n",
      "John   28         IT   50000  5000.0\n",
      "Jane   35         HR   55000  5500.0\n",
      "Jim    24    Finance   63000  6000.0\n",
      "Jack   29         IT   52000  5200.0\n"
     ]
    }
   ],
   "source": [
    "df.loc[df['Department'] == 'HR', 'Age'] = 35\n",
    "print(\"\\nDataFrame with Age updated for HR department:\")\n",
    "print(df)"
   ]
  },
  {
   "cell_type": "code",
   "execution_count": null,
   "id": "663eb494",
   "metadata": {},
   "outputs": [],
   "source": []
  }
 ],
 "metadata": {
  "kernelspec": {
   "display_name": "Python 3 (ipykernel)",
   "language": "python",
   "name": "python3"
  },
  "language_info": {
   "codemirror_mode": {
    "name": "ipython",
    "version": 3
   },
   "file_extension": ".py",
   "mimetype": "text/x-python",
   "name": "python",
   "nbconvert_exporter": "python",
   "pygments_lexer": "ipython3",
   "version": "3.11.5"
  }
 },
 "nbformat": 4,
 "nbformat_minor": 5
}
