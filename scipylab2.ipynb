{
 "cells": [
  {
   "cell_type": "code",
   "execution_count": 1,
   "id": "dfb4acdd",
   "metadata": {},
   "outputs": [],
   "source": [
    "# Write a python program using pandas Interpolation to fill in missing values\n",
    "#in the data frame.\n",
    "#Input:\n"
   ]
  },
  {
   "cell_type": "code",
   "execution_count": 2,
   "id": "94289dbd",
   "metadata": {},
   "outputs": [
    {
     "data": {
      "text/html": [
       "<div>\n",
       "<style scoped>\n",
       "    .dataframe tbody tr th:only-of-type {\n",
       "        vertical-align: middle;\n",
       "    }\n",
       "\n",
       "    .dataframe tbody tr th {\n",
       "        vertical-align: top;\n",
       "    }\n",
       "\n",
       "    .dataframe thead th {\n",
       "        text-align: right;\n",
       "    }\n",
       "</style>\n",
       "<table border=\"1\" class=\"dataframe\">\n",
       "  <thead>\n",
       "    <tr style=\"text-align: right;\">\n",
       "      <th></th>\n",
       "      <th>Math</th>\n",
       "      <th>English</th>\n",
       "      <th>Hindi</th>\n",
       "      <th>Science</th>\n",
       "    </tr>\n",
       "  </thead>\n",
       "  <tbody>\n",
       "    <tr>\n",
       "      <th>0</th>\n",
       "      <td>12.0</td>\n",
       "      <td>4.0</td>\n",
       "      <td>20.0</td>\n",
       "      <td>14.0</td>\n",
       "    </tr>\n",
       "    <tr>\n",
       "      <th>1</th>\n",
       "      <td>4.0</td>\n",
       "      <td>3.0</td>\n",
       "      <td>16.0</td>\n",
       "      <td>3.0</td>\n",
       "    </tr>\n",
       "    <tr>\n",
       "      <th>2</th>\n",
       "      <td>7.0</td>\n",
       "      <td>57.0</td>\n",
       "      <td>NaN</td>\n",
       "      <td>NaN</td>\n",
       "    </tr>\n",
       "    <tr>\n",
       "      <th>3</th>\n",
       "      <td>NaN</td>\n",
       "      <td>3.0</td>\n",
       "      <td>3.0</td>\n",
       "      <td>NaN</td>\n",
       "    </tr>\n",
       "    <tr>\n",
       "      <th>4</th>\n",
       "      <td>2.0</td>\n",
       "      <td>NaN</td>\n",
       "      <td>8.0</td>\n",
       "      <td>6.0</td>\n",
       "    </tr>\n",
       "  </tbody>\n",
       "</table>\n",
       "</div>"
      ],
      "text/plain": [
       "   Math  English  Hindi  Science\n",
       "0  12.0      4.0   20.0     14.0\n",
       "1   4.0      3.0   16.0      3.0\n",
       "2   7.0     57.0    NaN      NaN\n",
       "3   NaN      3.0    3.0      NaN\n",
       "4   2.0      NaN    8.0      6.0"
      ]
     },
     "execution_count": 2,
     "metadata": {},
     "output_type": "execute_result"
    }
   ],
   "source": [
    "import pandas as pd\n",
    "\n",
    "import matplotlib.pyplot as plt\n",
    "# from scipy.interpolate import interp1d\n",
    "df = pd.DataFrame({\"Math\":[12, 4, 7, None, 2],\n",
    "\"English\":[4, 3, 57, 3, None],\n",
    "\"Hindi\":[20, 16, None, 3, 8],\n",
    "\"Science\":[14, 3, None, None, 6]})\n",
    "df\n",
    "\n"
   ]
  },
  {
   "cell_type": "code",
   "execution_count": 3,
   "id": "5d055a21",
   "metadata": {},
   "outputs": [
    {
     "name": "stdout",
     "output_type": "stream",
     "text": [
      "\n",
      "DataFrame after Interpolation:\n",
      "   Math  English  Hindi  Science\n",
      "0  12.0      4.0   20.0     14.0\n",
      "1   4.0      3.0   16.0      3.0\n",
      "2   7.0     57.0    9.5      4.0\n",
      "3   4.5      3.0    3.0      5.0\n",
      "4   2.0      3.0    8.0      6.0\n"
     ]
    }
   ],
   "source": [
    "df_interpolated = df.interpolate()\n",
    "\n",
    "# Display the DataFrame after interpolation\n",
    "print(\"\\nDataFrame after Interpolation:\")\n",
    "print(df_interpolated)"
   ]
  },
  {
   "cell_type": "code",
   "execution_count": null,
   "id": "7b78dd67",
   "metadata": {},
   "outputs": [],
   "source": [
    " ##Write a python program using Interpolation to fill in missing values in the\n",
    "#data frame. After that store the data frame into a MATLAB file using SciPy IO.Then\n",
    "#display the contents from the MATLAB file."
   ]
  },
  {
   "cell_type": "code",
   "execution_count": 6,
   "id": "818e3522",
   "metadata": {},
   "outputs": [
    {
     "data": {
      "text/plain": [
       "{'__header__': b'MATLAB 5.0 MAT-file Platform: nt, Created on: Thu Sep 19 12:23:21 2024',\n",
       " '__version__': '1.0',\n",
       " '__globals__': [],\n",
       " 'Math': array([[12. ,  4. ,  7. ,  4.5,  2. ]]),\n",
       " 'English': array([[ 4.,  3., 57.,  3.,  3.]]),\n",
       " 'Hindi': array([[20. , 16. ,  9.5,  3. ,  8. ]]),\n",
       " 'Science': array([[14.,  3.,  4.,  5.,  6.]])}"
      ]
     },
     "execution_count": 6,
     "metadata": {},
     "output_type": "execute_result"
    }
   ],
   "source": [
    "from scipy.io import savemat, loadmat\n",
    "\n",
    "\n",
    "savemat('student_data.mat', df_interpolated)\n",
    "\n",
    "# Load the contents from the MATLAB file\n",
    "loaded_data = loadmat('student_data.mat')\n",
    "\n",
    "loaded_data"
   ]
  },
  {
   "cell_type": "code",
   "execution_count": null,
   "id": "3e034691",
   "metadata": {},
   "outputs": [],
   "source": []
  },
  {
   "cell_type": "code",
   "execution_count": null,
   "id": "d681b348",
   "metadata": {},
   "outputs": [],
   "source": []
  }
 ],
 "metadata": {
  "kernelspec": {
   "display_name": "Python 3 (ipykernel)",
   "language": "python",
   "name": "python3"
  },
  "language_info": {
   "codemirror_mode": {
    "name": "ipython",
    "version": 3
   },
   "file_extension": ".py",
   "mimetype": "text/x-python",
   "name": "python",
   "nbconvert_exporter": "python",
   "pygments_lexer": "ipython3",
   "version": "3.11.5"
  }
 },
 "nbformat": 4,
 "nbformat_minor": 5
}
