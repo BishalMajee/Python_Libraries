{
 "cells": [
  {
   "cell_type": "code",
   "execution_count": null,
   "id": "00f23390",
   "metadata": {},
   "outputs": [],
   "source": [
    "# 170 units of vitamin A\n",
    "#  180 units of vitamin B\n",
    "#  140 units of vitamin C\n",
    "#  180 units of vitamin D\n",
    "#  350 units of vitamin E\n",
    "\n",
    "\n",
    "#Food Vitamin-A Vitamin-B Vitamin-C Vitamin-D Vitamin-E\n",
    "#1      1         10       1           2        2\n",
    "#2      9         1        0           1        1\n",
    "#3      2         2        5           1        2\n",
    "#4      1         1        1           2       13\n",
    "#5      1         1        1           9        2\n",
    "\n",
    "# X1 + 9X2 + 2X3 + X4 + X5 = 170\n",
    "# 10X1 + X2 + 2X3 + X4 + X5 = 180\n",
    "# X1 + 0X2 + 5X3 + X4 + X5 = 140\n",
    "# 2X1 + X2 + X3 + 2X4 + 9X5 = 180\n",
    "# 2X1 + X2 + 2X3 + 13X4 + 2X5 = 350\n"
   ]
  },
  {
   "cell_type": "code",
   "execution_count": null,
   "id": "445b1063",
   "metadata": {},
   "outputs": [],
   "source": [
    "import numpy as np\n",
    "from scipy import linalg\n",
    "quan"
   ]
  }
 ],
 "metadata": {
  "kernelspec": {
   "display_name": "Python 3 (ipykernel)",
   "language": "python",
   "name": "python3"
  },
  "language_info": {
   "codemirror_mode": {
    "name": "ipython",
    "version": 3
   },
   "file_extension": ".py",
   "mimetype": "text/x-python",
   "name": "python",
   "nbconvert_exporter": "python",
   "pygments_lexer": "ipython3",
   "version": "3.11.5"
  }
 },
 "nbformat": 4,
 "nbformat_minor": 5
}
