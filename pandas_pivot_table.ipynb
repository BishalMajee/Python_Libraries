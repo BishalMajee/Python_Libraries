{
 "cells": [
  {
   "cell_type": "code",
   "execution_count": 1,
   "id": "61a61f6c-fcf5-4cf5-b3b8-b254e4bea488",
   "metadata": {},
   "outputs": [
    {
     "data": {
      "text/html": [
       "<div>\n",
       "<style scoped>\n",
       "    .dataframe tbody tr th:only-of-type {\n",
       "        vertical-align: middle;\n",
       "    }\n",
       "\n",
       "    .dataframe tbody tr th {\n",
       "        vertical-align: top;\n",
       "    }\n",
       "\n",
       "    .dataframe thead th {\n",
       "        text-align: right;\n",
       "    }\n",
       "</style>\n",
       "<table border=\"1\" class=\"dataframe\">\n",
       "  <thead>\n",
       "    <tr style=\"text-align: right;\">\n",
       "      <th></th>\n",
       "      <th>Account</th>\n",
       "      <th>Name</th>\n",
       "      <th>Rep</th>\n",
       "      <th>Manager</th>\n",
       "      <th>Product</th>\n",
       "      <th>Quantity</th>\n",
       "      <th>Sales</th>\n",
       "      <th>Status</th>\n",
       "    </tr>\n",
       "  </thead>\n",
       "  <tbody>\n",
       "    <tr>\n",
       "      <th>0</th>\n",
       "      <td>714466</td>\n",
       "      <td>Trantow-Barrows</td>\n",
       "      <td>Craig Booker</td>\n",
       "      <td>Debra Henley</td>\n",
       "      <td>CPU</td>\n",
       "      <td>1</td>\n",
       "      <td>30000</td>\n",
       "      <td>presented</td>\n",
       "    </tr>\n",
       "    <tr>\n",
       "      <th>1</th>\n",
       "      <td>714466</td>\n",
       "      <td>Trantow-Barrows</td>\n",
       "      <td>Craig Booker</td>\n",
       "      <td>Debra Henley</td>\n",
       "      <td>Software</td>\n",
       "      <td>1</td>\n",
       "      <td>10000</td>\n",
       "      <td>presented</td>\n",
       "    </tr>\n",
       "    <tr>\n",
       "      <th>2</th>\n",
       "      <td>714466</td>\n",
       "      <td>Trantow-Barrows</td>\n",
       "      <td>Craig Booker</td>\n",
       "      <td>Debra Henley</td>\n",
       "      <td>Maintenance</td>\n",
       "      <td>2</td>\n",
       "      <td>5000</td>\n",
       "      <td>pending</td>\n",
       "    </tr>\n",
       "    <tr>\n",
       "      <th>3</th>\n",
       "      <td>737550</td>\n",
       "      <td>Fritsch, Russel and Anderson</td>\n",
       "      <td>Craig Booker</td>\n",
       "      <td>Debra Henley</td>\n",
       "      <td>CPU</td>\n",
       "      <td>1</td>\n",
       "      <td>35000</td>\n",
       "      <td>declined</td>\n",
       "    </tr>\n",
       "    <tr>\n",
       "      <th>4</th>\n",
       "      <td>146832</td>\n",
       "      <td>Kiehn-Spinka</td>\n",
       "      <td>Daniel Hilton</td>\n",
       "      <td>Debra Henley</td>\n",
       "      <td>CPU</td>\n",
       "      <td>2</td>\n",
       "      <td>65000</td>\n",
       "      <td>won</td>\n",
       "    </tr>\n",
       "    <tr>\n",
       "      <th>5</th>\n",
       "      <td>218895</td>\n",
       "      <td>Kulas Inc</td>\n",
       "      <td>Daniel Hilton</td>\n",
       "      <td>Debra Henley</td>\n",
       "      <td>CPU</td>\n",
       "      <td>2</td>\n",
       "      <td>40000</td>\n",
       "      <td>pending</td>\n",
       "    </tr>\n",
       "    <tr>\n",
       "      <th>6</th>\n",
       "      <td>218895</td>\n",
       "      <td>Kulas Inc</td>\n",
       "      <td>Daniel Hilton</td>\n",
       "      <td>Debra Henley</td>\n",
       "      <td>Software</td>\n",
       "      <td>1</td>\n",
       "      <td>10000</td>\n",
       "      <td>presented</td>\n",
       "    </tr>\n",
       "    <tr>\n",
       "      <th>7</th>\n",
       "      <td>412290</td>\n",
       "      <td>Jerde-Hilpert</td>\n",
       "      <td>John Smith</td>\n",
       "      <td>Debra Henley</td>\n",
       "      <td>Maintenance</td>\n",
       "      <td>2</td>\n",
       "      <td>5000</td>\n",
       "      <td>pending</td>\n",
       "    </tr>\n",
       "    <tr>\n",
       "      <th>8</th>\n",
       "      <td>740150</td>\n",
       "      <td>Barton LLC</td>\n",
       "      <td>John Smith</td>\n",
       "      <td>Debra Henley</td>\n",
       "      <td>CPU</td>\n",
       "      <td>1</td>\n",
       "      <td>35000</td>\n",
       "      <td>declined</td>\n",
       "    </tr>\n",
       "    <tr>\n",
       "      <th>9</th>\n",
       "      <td>141962</td>\n",
       "      <td>Herman LLC</td>\n",
       "      <td>Cedric Moss</td>\n",
       "      <td>Fred Anderson</td>\n",
       "      <td>CPU</td>\n",
       "      <td>2</td>\n",
       "      <td>65000</td>\n",
       "      <td>won</td>\n",
       "    </tr>\n",
       "    <tr>\n",
       "      <th>10</th>\n",
       "      <td>163416</td>\n",
       "      <td>Purdy-Kunde</td>\n",
       "      <td>Cedric Moss</td>\n",
       "      <td>Fred Anderson</td>\n",
       "      <td>CPU</td>\n",
       "      <td>1</td>\n",
       "      <td>30000</td>\n",
       "      <td>presented</td>\n",
       "    </tr>\n",
       "    <tr>\n",
       "      <th>11</th>\n",
       "      <td>239344</td>\n",
       "      <td>Stokes LLC</td>\n",
       "      <td>Cedric Moss</td>\n",
       "      <td>Fred Anderson</td>\n",
       "      <td>Maintenance</td>\n",
       "      <td>1</td>\n",
       "      <td>5000</td>\n",
       "      <td>pending</td>\n",
       "    </tr>\n",
       "    <tr>\n",
       "      <th>12</th>\n",
       "      <td>239344</td>\n",
       "      <td>Stokes LLC</td>\n",
       "      <td>Cedric Moss</td>\n",
       "      <td>Fred Anderson</td>\n",
       "      <td>Software</td>\n",
       "      <td>1</td>\n",
       "      <td>10000</td>\n",
       "      <td>presented</td>\n",
       "    </tr>\n",
       "    <tr>\n",
       "      <th>13</th>\n",
       "      <td>307599</td>\n",
       "      <td>Kassulke, Ondricka and Metz</td>\n",
       "      <td>Wendy Yule</td>\n",
       "      <td>Fred Anderson</td>\n",
       "      <td>Maintenance</td>\n",
       "      <td>3</td>\n",
       "      <td>7000</td>\n",
       "      <td>won</td>\n",
       "    </tr>\n",
       "    <tr>\n",
       "      <th>14</th>\n",
       "      <td>688981</td>\n",
       "      <td>Keeling LLC</td>\n",
       "      <td>Wendy Yule</td>\n",
       "      <td>Fred Anderson</td>\n",
       "      <td>CPU</td>\n",
       "      <td>5</td>\n",
       "      <td>100000</td>\n",
       "      <td>won</td>\n",
       "    </tr>\n",
       "    <tr>\n",
       "      <th>15</th>\n",
       "      <td>729833</td>\n",
       "      <td>Koepp Ltd</td>\n",
       "      <td>Wendy Yule</td>\n",
       "      <td>Fred Anderson</td>\n",
       "      <td>CPU</td>\n",
       "      <td>2</td>\n",
       "      <td>65000</td>\n",
       "      <td>declined</td>\n",
       "    </tr>\n",
       "    <tr>\n",
       "      <th>16</th>\n",
       "      <td>729833</td>\n",
       "      <td>Koepp Ltd</td>\n",
       "      <td>Wendy Yule</td>\n",
       "      <td>Fred Anderson</td>\n",
       "      <td>Monitor</td>\n",
       "      <td>2</td>\n",
       "      <td>5000</td>\n",
       "      <td>presented</td>\n",
       "    </tr>\n",
       "  </tbody>\n",
       "</table>\n",
       "</div>"
      ],
      "text/plain": [
       "    Account                          Name            Rep        Manager  \\\n",
       "0    714466               Trantow-Barrows   Craig Booker   Debra Henley   \n",
       "1    714466               Trantow-Barrows   Craig Booker   Debra Henley   \n",
       "2    714466               Trantow-Barrows   Craig Booker   Debra Henley   \n",
       "3    737550  Fritsch, Russel and Anderson   Craig Booker   Debra Henley   \n",
       "4    146832                  Kiehn-Spinka  Daniel Hilton   Debra Henley   \n",
       "5    218895                     Kulas Inc  Daniel Hilton   Debra Henley   \n",
       "6    218895                     Kulas Inc  Daniel Hilton   Debra Henley   \n",
       "7    412290                 Jerde-Hilpert     John Smith   Debra Henley   \n",
       "8    740150                    Barton LLC     John Smith   Debra Henley   \n",
       "9    141962                    Herman LLC    Cedric Moss  Fred Anderson   \n",
       "10   163416                   Purdy-Kunde    Cedric Moss  Fred Anderson   \n",
       "11   239344                    Stokes LLC    Cedric Moss  Fred Anderson   \n",
       "12   239344                    Stokes LLC    Cedric Moss  Fred Anderson   \n",
       "13   307599   Kassulke, Ondricka and Metz     Wendy Yule  Fred Anderson   \n",
       "14   688981                   Keeling LLC     Wendy Yule  Fred Anderson   \n",
       "15   729833                     Koepp Ltd     Wendy Yule  Fred Anderson   \n",
       "16   729833                     Koepp Ltd     Wendy Yule  Fred Anderson   \n",
       "\n",
       "        Product  Quantity   Sales     Status  \n",
       "0           CPU         1   30000  presented  \n",
       "1      Software         1   10000  presented  \n",
       "2   Maintenance         2    5000    pending  \n",
       "3           CPU         1   35000   declined  \n",
       "4           CPU         2   65000        won  \n",
       "5           CPU         2   40000    pending  \n",
       "6      Software         1   10000  presented  \n",
       "7   Maintenance         2    5000    pending  \n",
       "8           CPU         1   35000   declined  \n",
       "9           CPU         2   65000        won  \n",
       "10          CPU         1   30000  presented  \n",
       "11  Maintenance         1    5000    pending  \n",
       "12     Software         1   10000  presented  \n",
       "13  Maintenance         3    7000        won  \n",
       "14          CPU         5  100000        won  \n",
       "15          CPU         2   65000   declined  \n",
       "16      Monitor         2    5000  presented  "
      ]
     },
     "execution_count": 1,
     "metadata": {},
     "output_type": "execute_result"
    }
   ],
   "source": [
    "import pandas as pd\n",
    "import numpy as np\n",
    "df = pd.read_csv(r\"C:\\Users\\Administrator\\Desktop\\Anudip Foundation\\Python Answers\\Class Work\\files\\Panda Sample Files\\sales-data.csv\")\n",
    "df"
   ]
  },
  {
   "cell_type": "code",
   "execution_count": 2,
   "id": "e66fd651-9c0d-4401-8d23-05436d4f3a1c",
   "metadata": {},
   "outputs": [
    {
     "name": "stdout",
     "output_type": "stream",
     "text": [
      "             Quantity   Sales\n",
      "Product                      \n",
      "CPU                17  465000\n",
      "Maintenance         8   22000\n",
      "Monitor             2    5000\n",
      "Software            3   30000\n"
     ]
    },
    {
     "name": "stderr",
     "output_type": "stream",
     "text": [
      "C:\\Users\\Administrator\\AppData\\Local\\Temp\\ipykernel_552\\1479695145.py:1: FutureWarning: The provided callable <function sum at 0x0000011538B02B60> is currently using DataFrameGroupBy.sum. In a future version of pandas, the provided callable will be used directly. To keep current behavior pass the string \"sum\" instead.\n",
      "  print(pd.pivot_table(data=df , values=[\"Quantity\",\"Sales\"], index=[\"Product\"], aggfunc=np.sum))\n"
     ]
    }
   ],
   "source": [
    "print(pd.pivot_table(data=df , values=[\"Quantity\",\"Sales\"], index=[\"Product\"], aggfunc=np.sum))"
   ]
  },
  {
   "cell_type": "code",
   "execution_count": 3,
   "id": "9b310207-5d17-4ee1-aeb1-7da857c6ee80",
   "metadata": {},
   "outputs": [
    {
     "name": "stdout",
     "output_type": "stream",
     "text": [
      "                                                          Quantity   Sales\n",
      "Name                         Rep           Manager                        \n",
      "Barton LLC                   John Smith    Debra Henley          1   35000\n",
      "Fritsch, Russel and Anderson Craig Booker  Debra Henley          1   35000\n",
      "Herman LLC                   Cedric Moss   Fred Anderson         2   65000\n",
      "Jerde-Hilpert                John Smith    Debra Henley          2    5000\n",
      "Kassulke, Ondricka and Metz  Wendy Yule    Fred Anderson         3    7000\n",
      "Keeling LLC                  Wendy Yule    Fred Anderson         5  100000\n",
      "Kiehn-Spinka                 Daniel Hilton Debra Henley          2   65000\n",
      "Koepp Ltd                    Wendy Yule    Fred Anderson         4   70000\n",
      "Kulas Inc                    Daniel Hilton Debra Henley          3   50000\n",
      "Purdy-Kunde                  Cedric Moss   Fred Anderson         1   30000\n",
      "Stokes LLC                   Cedric Moss   Fred Anderson         2   15000\n",
      "Trantow-Barrows              Craig Booker  Debra Henley          4   45000\n"
     ]
    },
    {
     "name": "stderr",
     "output_type": "stream",
     "text": [
      "C:\\Users\\Administrator\\AppData\\Local\\Temp\\ipykernel_552\\1506748262.py:1: FutureWarning: The provided callable <function sum at 0x0000011538B02B60> is currently using DataFrameGroupBy.sum. In a future version of pandas, the provided callable will be used directly. To keep current behavior pass the string \"sum\" instead.\n",
      "  print(pd.pivot_table(data=df , values=[\"Quantity\",\"Sales\"], index=[\"Name\",\"Rep\", \"Manager\"], aggfunc=np.sum))\n"
     ]
    }
   ],
   "source": [
    "print(pd.pivot_table(data=df , values=[\"Quantity\",\"Sales\"], index=[\"Name\",\"Rep\", \"Manager\"], aggfunc=np.sum))"
   ]
  },
  {
   "cell_type": "code",
   "execution_count": 4,
   "id": "1d7305cc-f2f0-4884-9461-434b8e9fd814",
   "metadata": {},
   "outputs": [
    {
     "name": "stdout",
     "output_type": "stream",
     "text": [
      "                             Quantity   Sales\n",
      "Manager       Rep                            \n",
      "Debra Henley  Craig Booker          5   80000\n",
      "              Daniel Hilton         5  115000\n",
      "              John Smith            3   40000\n",
      "Fred Anderson Cedric Moss           5  110000\n",
      "              Wendy Yule           12  177000\n"
     ]
    },
    {
     "name": "stderr",
     "output_type": "stream",
     "text": [
      "C:\\Users\\Administrator\\AppData\\Local\\Temp\\ipykernel_552\\2584431423.py:1: FutureWarning: The provided callable <function sum at 0x0000011538B02B60> is currently using DataFrameGroupBy.sum. In a future version of pandas, the provided callable will be used directly. To keep current behavior pass the string \"sum\" instead.\n",
      "  print(pd.pivot_table(data=df , values=[\"Quantity\",\"Sales\"], index=[\"Manager\",\"Rep\"], aggfunc=np.sum))\n"
     ]
    }
   ],
   "source": [
    "print(pd.pivot_table(data=df , values=[\"Quantity\",\"Sales\"], index=[\"Manager\",\"Rep\"], aggfunc=np.sum))"
   ]
  },
  {
   "cell_type": "code",
   "execution_count": 5,
   "id": "615bb50a-347e-434a-91ec-3502ea43b3b1",
   "metadata": {},
   "outputs": [
    {
     "name": "stdout",
     "output_type": "stream",
     "text": [
      "                                Sales                             \n",
      "Product                           CPU Maintenance Monitor Software\n",
      "Manager       Rep                                                 \n",
      "Debra Henley  Craig Booker    65000.0      5000.0     NaN  10000.0\n",
      "              Daniel Hilton  105000.0         NaN     NaN  10000.0\n",
      "              John Smith      35000.0      5000.0     NaN      NaN\n",
      "Fred Anderson Cedric Moss     95000.0      5000.0     NaN  10000.0\n",
      "              Wendy Yule     165000.0      7000.0  5000.0      NaN\n"
     ]
    },
    {
     "name": "stderr",
     "output_type": "stream",
     "text": [
      "C:\\Users\\Administrator\\AppData\\Local\\Temp\\ipykernel_552\\31027704.py:1: FutureWarning: The provided callable <function sum at 0x0000011538B02B60> is currently using DataFrameGroupBy.sum. In a future version of pandas, the provided callable will be used directly. To keep current behavior pass the string \"sum\" instead.\n",
      "  print(pd.pivot_table(data=df , values=[\"Sales\"], index=[\"Manager\",\"Rep\"], columns = [\"Product\"], aggfunc=np.sum))\n"
     ]
    }
   ],
   "source": [
    "print(pd.pivot_table(data=df , values=[\"Sales\"], index=[\"Manager\",\"Rep\"], columns = [\"Product\"], aggfunc=np.sum))"
   ]
  },
  {
   "cell_type": "code",
   "execution_count": 6,
   "id": "6b940f93-05f8-4f55-83b6-c223ac5a627f",
   "metadata": {},
   "outputs": [
    {
     "name": "stdout",
     "output_type": "stream",
     "text": [
      "                            Quantity                                    Sales  \\\n",
      "Product                          CPU Maintenance Monitor Software All     CPU   \n",
      "Manager       Rep                                                               \n",
      "Debra Henley  Craig Booker         2           2       0        1   5   65000   \n",
      "              Daniel Hilton        4           0       0        1   5  105000   \n",
      "              John Smith           1           2       0        0   3   35000   \n",
      "Fred Anderson Cedric Moss          3           1       0        1   5   95000   \n",
      "              Wendy Yule           7           3       2        0  12  165000   \n",
      "All                               17           8       2        3  30  465000   \n",
      "\n",
      "                                                                  \n",
      "Product                     Maintenance Monitor Software     All  \n",
      "Manager       Rep                                                 \n",
      "Debra Henley  Craig Booker         5000       0    10000   80000  \n",
      "              Daniel Hilton           0       0    10000  115000  \n",
      "              John Smith           5000       0        0   40000  \n",
      "Fred Anderson Cedric Moss          5000       0    10000  110000  \n",
      "              Wendy Yule           7000    5000        0  177000  \n",
      "All                               22000    5000    30000  522000  \n"
     ]
    },
    {
     "name": "stderr",
     "output_type": "stream",
     "text": [
      "C:\\Users\\Administrator\\AppData\\Local\\Temp\\ipykernel_552\\1667916206.py:1: FutureWarning: The provided callable <function sum at 0x0000011538B02B60> is currently using DataFrameGroupBy.sum. In a future version of pandas, the provided callable will be used directly. To keep current behavior pass the string \"sum\" instead.\n",
      "  print(pd.pivot_table(data=df , values=[\"Quantity\",\"Sales\"], index=[\"Manager\",\"Rep\"], columns = [\"Product\"], fill_value = 0, margins = True, aggfunc=np.sum))\n",
      "C:\\Users\\Administrator\\AppData\\Local\\Temp\\ipykernel_552\\1667916206.py:1: FutureWarning: The provided callable <function sum at 0x0000011538B02B60> is currently using DataFrameGroupBy.sum. In a future version of pandas, the provided callable will be used directly. To keep current behavior pass the string \"sum\" instead.\n",
      "  print(pd.pivot_table(data=df , values=[\"Quantity\",\"Sales\"], index=[\"Manager\",\"Rep\"], columns = [\"Product\"], fill_value = 0, margins = True, aggfunc=np.sum))\n",
      "C:\\Users\\Administrator\\AppData\\Local\\Temp\\ipykernel_552\\1667916206.py:1: FutureWarning: The provided callable <function sum at 0x0000011538B02B60> is currently using DataFrameGroupBy.sum. In a future version of pandas, the provided callable will be used directly. To keep current behavior pass the string \"sum\" instead.\n",
      "  print(pd.pivot_table(data=df , values=[\"Quantity\",\"Sales\"], index=[\"Manager\",\"Rep\"], columns = [\"Product\"], fill_value = 0, margins = True, aggfunc=np.sum))\n"
     ]
    }
   ],
   "source": [
    "print(pd.pivot_table(data=df , values=[\"Quantity\",\"Sales\"], index=[\"Manager\",\"Rep\"], columns = [\"Product\"], fill_value = 0, margins = True, aggfunc=np.sum))"
   ]
  },
  {
   "cell_type": "code",
   "execution_count": 7,
   "id": "a7820f76-b7bc-43e3-a321-587b105a451a",
   "metadata": {},
   "outputs": [
    {
     "name": "stdout",
     "output_type": "stream",
     "text": [
      "                                         Quantity   Sales\n",
      "Manager       Rep           Product                      \n",
      "Debra Henley  Craig Booker  CPU                 2   65000\n",
      "                            Maintenance         2    5000\n",
      "                            Software            1   10000\n",
      "              Daniel Hilton CPU                 4  105000\n",
      "                            Software            1   10000\n",
      "              John Smith    CPU                 1   35000\n",
      "                            Maintenance         2    5000\n",
      "Fred Anderson Cedric Moss   CPU                 3   95000\n",
      "                            Maintenance         1    5000\n",
      "                            Software            1   10000\n",
      "              Wendy Yule    CPU                 7  165000\n",
      "                            Maintenance         3    7000\n",
      "                            Monitor             2    5000\n",
      "All                                            30  522000\n"
     ]
    },
    {
     "name": "stderr",
     "output_type": "stream",
     "text": [
      "C:\\Users\\Administrator\\AppData\\Local\\Temp\\ipykernel_552\\1190100308.py:1: FutureWarning: The provided callable <function sum at 0x0000011538B02B60> is currently using DataFrameGroupBy.sum. In a future version of pandas, the provided callable will be used directly. To keep current behavior pass the string \"sum\" instead.\n",
      "  print(pd.pivot_table(data=df , values=[\"Quantity\",\"Sales\"], index=[\"Manager\",\"Rep\",\"Product\"], margins = True, aggfunc=np.sum))\n"
     ]
    }
   ],
   "source": [
    "print(pd.pivot_table(data=df , values=[\"Quantity\",\"Sales\"], index=[\"Manager\",\"Rep\",\"Product\"], margins = True, aggfunc=np.sum))"
   ]
  },
  {
   "cell_type": "code",
   "execution_count": 8,
   "id": "145b88f5-57ef-4786-bacf-1fbf7f60f14b",
   "metadata": {},
   "outputs": [
    {
     "name": "stdout",
     "output_type": "stream",
     "text": [
      "                                             sum              mean  \\\n",
      "                                        Quantity   Sales  Quantity   \n",
      "Manager       Rep           Product                                  \n",
      "Debra Henley  Craig Booker  CPU                2   65000  1.000000   \n",
      "                            Maintenance        2    5000  2.000000   \n",
      "                            Software           1   10000  1.000000   \n",
      "              Daniel Hilton CPU                4  105000  2.000000   \n",
      "                            Software           1   10000  1.000000   \n",
      "              John Smith    CPU                1   35000  1.000000   \n",
      "                            Maintenance        2    5000  2.000000   \n",
      "Fred Anderson Cedric Moss   CPU                3   95000  1.500000   \n",
      "                            Maintenance        1    5000  1.000000   \n",
      "                            Software           1   10000  1.000000   \n",
      "              Wendy Yule    CPU                7  165000  3.500000   \n",
      "                            Maintenance        3    7000  3.000000   \n",
      "                            Monitor            2    5000  2.000000   \n",
      "All                                           30  522000  1.764706   \n",
      "\n",
      "                                                       \n",
      "                                                Sales  \n",
      "Manager       Rep           Product                    \n",
      "Debra Henley  Craig Booker  CPU          32500.000000  \n",
      "                            Maintenance   5000.000000  \n",
      "                            Software     10000.000000  \n",
      "              Daniel Hilton CPU          52500.000000  \n",
      "                            Software     10000.000000  \n",
      "              John Smith    CPU          35000.000000  \n",
      "                            Maintenance   5000.000000  \n",
      "Fred Anderson Cedric Moss   CPU          47500.000000  \n",
      "                            Maintenance   5000.000000  \n",
      "                            Software     10000.000000  \n",
      "              Wendy Yule    CPU          82500.000000  \n",
      "                            Maintenance   7000.000000  \n",
      "                            Monitor       5000.000000  \n",
      "All                                      30705.882353  \n"
     ]
    },
    {
     "name": "stderr",
     "output_type": "stream",
     "text": [
      "C:\\Users\\Administrator\\AppData\\Local\\Temp\\ipykernel_552\\23579990.py:1: FutureWarning: The provided callable <function sum at 0x0000011538B02B60> is currently using DataFrameGroupBy.sum. In a future version of pandas, the provided callable will be used directly. To keep current behavior pass the string \"sum\" instead.\n",
      "  print(pd.pivot_table(data=df , values=[\"Quantity\",\"Sales\"], index=[\"Manager\",\"Rep\",\"Product\"], margins = True, aggfunc=[np.sum,np.mean]))\n",
      "C:\\Users\\Administrator\\AppData\\Local\\Temp\\ipykernel_552\\23579990.py:1: FutureWarning: The provided callable <function mean at 0x0000011538B03F60> is currently using DataFrameGroupBy.mean. In a future version of pandas, the provided callable will be used directly. To keep current behavior pass the string \"mean\" instead.\n",
      "  print(pd.pivot_table(data=df , values=[\"Quantity\",\"Sales\"], index=[\"Manager\",\"Rep\",\"Product\"], margins = True, aggfunc=[np.sum,np.mean]))\n"
     ]
    }
   ],
   "source": [
    "print(pd.pivot_table(data=df , values=[\"Quantity\",\"Sales\"], index=[\"Manager\",\"Rep\",\"Product\"], margins = True, aggfunc=[np.sum,np.mean]))"
   ]
  },
  {
   "cell_type": "code",
   "execution_count": 9,
   "id": "691fe9f3-ca1f-41f1-83f5-76b62a592c25",
   "metadata": {},
   "outputs": [
    {
     "name": "stdout",
     "output_type": "stream",
     "text": [
      "                   sum                                  \n",
      "                 Sales                                  \n",
      "Status        declined pending presented     won     All\n",
      "Manager                                                 \n",
      "Debra Henley     70000   50000     50000   65000  235000\n",
      "Fred Anderson    65000    5000     45000  172000  287000\n",
      "All             135000   55000     95000  237000  522000\n"
     ]
    },
    {
     "name": "stderr",
     "output_type": "stream",
     "text": [
      "C:\\Users\\Administrator\\AppData\\Local\\Temp\\ipykernel_552\\196129290.py:1: FutureWarning: The provided callable <function sum at 0x0000011538B02B60> is currently using DataFrameGroupBy.sum. In a future version of pandas, the provided callable will be used directly. To keep current behavior pass the string \"sum\" instead.\n",
      "  print(pd.pivot_table(data=df , values=[\"Sales\"], index=[\"Manager\"], columns = [\"Status\"], margins = True, aggfunc=[np.sum]))\n",
      "C:\\Users\\Administrator\\AppData\\Local\\Temp\\ipykernel_552\\196129290.py:1: FutureWarning: The provided callable <function sum at 0x0000011538B02B60> is currently using DataFrameGroupBy.sum. In a future version of pandas, the provided callable will be used directly. To keep current behavior pass the string \"sum\" instead.\n",
      "  print(pd.pivot_table(data=df , values=[\"Sales\"], index=[\"Manager\"], columns = [\"Status\"], margins = True, aggfunc=[np.sum]))\n",
      "C:\\Users\\Administrator\\AppData\\Local\\Temp\\ipykernel_552\\196129290.py:1: FutureWarning: The provided callable <function sum at 0x0000011538B02B60> is currently using DataFrameGroupBy.sum. In a future version of pandas, the provided callable will be used directly. To keep current behavior pass the string \"sum\" instead.\n",
      "  print(pd.pivot_table(data=df , values=[\"Sales\"], index=[\"Manager\"], columns = [\"Status\"], margins = True, aggfunc=[np.sum]))\n"
     ]
    }
   ],
   "source": [
    "print(pd.pivot_table(data=df , values=[\"Sales\"], index=[\"Manager\"], columns = [\"Status\"], margins = True, aggfunc=[np.sum]))"
   ]
  },
  {
   "cell_type": "code",
   "execution_count": 10,
   "id": "3f92fe23-ce4a-4e23-a0c3-006bbcca8564",
   "metadata": {},
   "outputs": [
    {
     "name": "stdout",
     "output_type": "stream",
     "text": [
      "                                     sum                                     \n",
      "                                   Sales                                     \n",
      "Product                              CPU Maintenance Monitor Software     All\n",
      "Manager       Status    Quantity                                             \n",
      "Debra Henley  declined  1          70000           0       0        0   70000\n",
      "              pending   2          40000       10000       0        0   50000\n",
      "              presented 1          30000           0       0    20000   50000\n",
      "              won       2          65000           0       0        0   65000\n",
      "Fred Anderson declined  2          65000           0       0        0   65000\n",
      "              pending   1              0        5000       0        0    5000\n",
      "              presented 1          30000           0       0    10000   40000\n",
      "                        2              0           0    5000        0    5000\n",
      "              won       2          65000           0       0        0   65000\n",
      "                        3              0        7000       0        0    7000\n",
      "                        5         100000           0       0        0  100000\n",
      "All                               465000       22000    5000    30000  522000\n"
     ]
    },
    {
     "name": "stderr",
     "output_type": "stream",
     "text": [
      "C:\\Users\\Administrator\\AppData\\Local\\Temp\\ipykernel_552\\1499023418.py:1: FutureWarning: The provided callable <function sum at 0x0000011538B02B60> is currently using DataFrameGroupBy.sum. In a future version of pandas, the provided callable will be used directly. To keep current behavior pass the string \"sum\" instead.\n",
      "  print(pd.pivot_table(data=df , values=[\"Sales\"], index=[\"Manager\",\"Status\", \"Quantity\"], columns= \"Product\", margins = True, fill_value = 0, aggfunc=[np.sum]))\n",
      "C:\\Users\\Administrator\\AppData\\Local\\Temp\\ipykernel_552\\1499023418.py:1: FutureWarning: The provided callable <function sum at 0x0000011538B02B60> is currently using DataFrameGroupBy.sum. In a future version of pandas, the provided callable will be used directly. To keep current behavior pass the string \"sum\" instead.\n",
      "  print(pd.pivot_table(data=df , values=[\"Sales\"], index=[\"Manager\",\"Status\", \"Quantity\"], columns= \"Product\", margins = True, fill_value = 0, aggfunc=[np.sum]))\n",
      "C:\\Users\\Administrator\\AppData\\Local\\Temp\\ipykernel_552\\1499023418.py:1: FutureWarning: The provided callable <function sum at 0x0000011538B02B60> is currently using DataFrameGroupBy.sum. In a future version of pandas, the provided callable will be used directly. To keep current behavior pass the string \"sum\" instead.\n",
      "  print(pd.pivot_table(data=df , values=[\"Sales\"], index=[\"Manager\",\"Status\", \"Quantity\"], columns= \"Product\", margins = True, fill_value = 0, aggfunc=[np.sum]))\n"
     ]
    }
   ],
   "source": [
    "print(pd.pivot_table(data=df , values=[\"Sales\"], index=[\"Manager\",\"Status\", \"Quantity\"], columns= \"Product\", margins = True, fill_value = 0, aggfunc=[np.sum]))"
   ]
  },
  {
   "cell_type": "code",
   "execution_count": 11,
   "id": "a1f21ce0-91b7-41f8-87f2-a83462362b91",
   "metadata": {},
   "outputs": [
    {
     "name": "stdout",
     "output_type": "stream",
     "text": [
      "                           Sales                                       \\\n",
      "                            mean                                  sum   \n",
      "Product                      CPU Maintenance Monitor Software     CPU   \n",
      "Manager       Status                                                    \n",
      "Debra Henley  declined   35000.0         0.0     0.0      0.0   70000   \n",
      "              pending    40000.0      5000.0     0.0      0.0   40000   \n",
      "              presented  30000.0         0.0     0.0  10000.0   30000   \n",
      "              won        65000.0         0.0     0.0      0.0   65000   \n",
      "Fred Anderson declined   65000.0         0.0     0.0      0.0   65000   \n",
      "              pending        0.0      5000.0     0.0      0.0       0   \n",
      "              presented  30000.0         0.0  5000.0  10000.0   30000   \n",
      "              won        82500.0      7000.0     0.0      0.0  165000   \n",
      "\n",
      "                                                      \n",
      "                                                      \n",
      "Product                 Maintenance Monitor Software  \n",
      "Manager       Status                                  \n",
      "Debra Henley  declined            0       0        0  \n",
      "              pending         10000       0        0  \n",
      "              presented           0       0    20000  \n",
      "              won                 0       0        0  \n",
      "Fred Anderson declined            0       0        0  \n",
      "              pending          5000       0        0  \n",
      "              presented           0    5000    10000  \n",
      "              won              7000       0        0  \n"
     ]
    },
    {
     "name": "stderr",
     "output_type": "stream",
     "text": [
      "C:\\Users\\Administrator\\AppData\\Local\\Temp\\ipykernel_552\\142694890.py:1: FutureWarning: The provided callable <function sum at 0x0000011538B02B60> is currently using SeriesGroupBy.sum. In a future version of pandas, the provided callable will be used directly. To keep current behavior pass the string \"sum\" instead.\n",
      "  print(pd.pivot_table(data=df , values=[\"Sales\"], index=[\"Manager\",\"Status\"], columns= [\"Product\"], fill_value = 0, aggfunc={\"Sales\":[np.sum,np.mean]}))\n",
      "C:\\Users\\Administrator\\AppData\\Local\\Temp\\ipykernel_552\\142694890.py:1: FutureWarning: The provided callable <function mean at 0x0000011538B03F60> is currently using SeriesGroupBy.mean. In a future version of pandas, the provided callable will be used directly. To keep current behavior pass the string \"mean\" instead.\n",
      "  print(pd.pivot_table(data=df , values=[\"Sales\"], index=[\"Manager\",\"Status\"], columns= [\"Product\"], fill_value = 0, aggfunc={\"Sales\":[np.sum,np.mean]}))\n"
     ]
    }
   ],
   "source": [
    "print(pd.pivot_table(data=df , values=[\"Sales\"], index=[\"Manager\",\"Status\"], columns= [\"Product\"], fill_value = 0, aggfunc={\"Sales\":[np.sum,np.mean]}))"
   ]
  },
  {
   "cell_type": "code",
   "execution_count": 16,
   "id": "413f24f1-bb29-42d4-9895-7d68f5fa4919",
   "metadata": {},
   "outputs": [
    {
     "name": "stdout",
     "output_type": "stream",
     "text": [
      "                                             sum             mean           \\\n",
      "                                        Quantity   Sales Quantity    Sales   \n",
      "Manager       Rep           Product                                          \n",
      "Debra Henley  Craig Booker  CPU                2   65000      1.0  32500.0   \n",
      "                            Maintenance        2    5000      2.0   5000.0   \n",
      "                            Software           1   10000      1.0  10000.0   \n",
      "              Daniel Hilton CPU                4  105000      2.0  52500.0   \n",
      "                            Software           1   10000      1.0  10000.0   \n",
      "              John Smith    CPU                1   35000      1.0  35000.0   \n",
      "                            Maintenance        2    5000      2.0   5000.0   \n",
      "Fred Anderson Cedric Moss   CPU                3   95000      1.5  47500.0   \n",
      "                            Maintenance        1    5000      1.0   5000.0   \n",
      "                            Software           1   10000      1.0  10000.0   \n",
      "              Wendy Yule    CPU                7  165000      3.5  82500.0   \n",
      "                            Maintenance        3    7000      3.0   7000.0   \n",
      "                            Monitor            2    5000      2.0   5000.0   \n",
      "\n",
      "                                             min             max          \\\n",
      "                                        Quantity  Sales Quantity   Sales   \n",
      "Manager       Rep           Product                                        \n",
      "Debra Henley  Craig Booker  CPU                1  30000        1   35000   \n",
      "                            Maintenance        2   5000        2    5000   \n",
      "                            Software           1  10000        1   10000   \n",
      "              Daniel Hilton CPU                2  40000        2   65000   \n",
      "                            Software           1  10000        1   10000   \n",
      "              John Smith    CPU                1  35000        1   35000   \n",
      "                            Maintenance        2   5000        2    5000   \n",
      "Fred Anderson Cedric Moss   CPU                1  30000        2   65000   \n",
      "                            Maintenance        1   5000        1    5000   \n",
      "                            Software           1  10000        1   10000   \n",
      "              Wendy Yule    CPU                2  65000        5  100000   \n",
      "                            Maintenance        3   7000        3    7000   \n",
      "                            Monitor            2   5000        2    5000   \n",
      "\n",
      "                                              std                    var  \\\n",
      "                                         Quantity         Sales Quantity   \n",
      "Manager       Rep           Product                                        \n",
      "Debra Henley  Craig Booker  CPU          0.000000   3535.533906      0.0   \n",
      "                            Maintenance       NaN           NaN      NaN   \n",
      "                            Software          NaN           NaN      NaN   \n",
      "              Daniel Hilton CPU          0.000000  17677.669530      0.0   \n",
      "                            Software          NaN           NaN      NaN   \n",
      "              John Smith    CPU               NaN           NaN      NaN   \n",
      "                            Maintenance       NaN           NaN      NaN   \n",
      "Fred Anderson Cedric Moss   CPU          0.707107  24748.737342      0.5   \n",
      "                            Maintenance       NaN           NaN      NaN   \n",
      "                            Software          NaN           NaN      NaN   \n",
      "              Wendy Yule    CPU          2.121320  24748.737342      4.5   \n",
      "                            Maintenance       NaN           NaN      NaN   \n",
      "                            Monitor           NaN           NaN      NaN   \n",
      "\n",
      "                                                      \n",
      "                                               Sales  \n",
      "Manager       Rep           Product                   \n",
      "Debra Henley  Craig Booker  CPU           12500000.0  \n",
      "                            Maintenance          NaN  \n",
      "                            Software             NaN  \n",
      "              Daniel Hilton CPU          312500000.0  \n",
      "                            Software             NaN  \n",
      "              John Smith    CPU                  NaN  \n",
      "                            Maintenance          NaN  \n",
      "Fred Anderson Cedric Moss   CPU          612500000.0  \n",
      "                            Maintenance          NaN  \n",
      "                            Software             NaN  \n",
      "              Wendy Yule    CPU          612500000.0  \n",
      "                            Maintenance          NaN  \n",
      "                            Monitor              NaN  \n"
     ]
    },
    {
     "name": "stderr",
     "output_type": "stream",
     "text": [
      "C:\\Users\\Administrator\\AppData\\Local\\Temp\\ipykernel_552\\1866329845.py:1: FutureWarning: The provided callable <function sum at 0x0000011538B02B60> is currently using DataFrameGroupBy.sum. In a future version of pandas, the provided callable will be used directly. To keep current behavior pass the string \"sum\" instead.\n",
      "  pivot_table = pd.pivot_table(\n",
      "C:\\Users\\Administrator\\AppData\\Local\\Temp\\ipykernel_552\\1866329845.py:1: FutureWarning: The provided callable <function mean at 0x0000011538B03F60> is currently using DataFrameGroupBy.mean. In a future version of pandas, the provided callable will be used directly. To keep current behavior pass the string \"mean\" instead.\n",
      "  pivot_table = pd.pivot_table(\n",
      "C:\\Users\\Administrator\\AppData\\Local\\Temp\\ipykernel_552\\1866329845.py:1: FutureWarning: The provided callable <function min at 0x0000011538B036A0> is currently using DataFrameGroupBy.min. In a future version of pandas, the provided callable will be used directly. To keep current behavior pass the string \"min\" instead.\n",
      "  pivot_table = pd.pivot_table(\n",
      "C:\\Users\\Administrator\\AppData\\Local\\Temp\\ipykernel_552\\1866329845.py:1: FutureWarning: The provided callable <function max at 0x0000011538B03560> is currently using DataFrameGroupBy.max. In a future version of pandas, the provided callable will be used directly. To keep current behavior pass the string \"max\" instead.\n",
      "  pivot_table = pd.pivot_table(\n",
      "C:\\Users\\Administrator\\AppData\\Local\\Temp\\ipykernel_552\\1866329845.py:1: FutureWarning: The provided callable <function std at 0x0000011538B0C0E0> is currently using DataFrameGroupBy.std. In a future version of pandas, the provided callable will be used directly. To keep current behavior pass the string \"std\" instead.\n",
      "  pivot_table = pd.pivot_table(\n",
      "C:\\Users\\Administrator\\AppData\\Local\\Temp\\ipykernel_552\\1866329845.py:1: FutureWarning: The provided callable <function var at 0x0000011538B0C220> is currently using DataFrameGroupBy.var. In a future version of pandas, the provided callable will be used directly. To keep current behavior pass the string \"var\" instead.\n",
      "  pivot_table = pd.pivot_table(\n"
     ]
    }
   ],
   "source": [
    "pivot_table = pd.pivot_table(\n",
    "    df,\n",
    "    index=[\"Manager\", \"Rep\", \"Product\"],\n",
    "    values=[\"Sales\", \"Quantity\"],\n",
    "    aggfunc=[np.sum, np.mean, np.min, np.max, np.std, np.var],  # Add other functions as needed\n",
    "    fill_value=0\n",
    ")\n",
    "print(pivot_table)\n",
    "\n"
   ]
  },
  {
   "cell_type": "code",
   "execution_count": 15,
   "id": "80e48768-a601-4ad5-8e5f-b8b7108b584b",
   "metadata": {},
   "outputs": [
    {
     "name": "stdout",
     "output_type": "stream",
     "text": [
      "                                         sum             mean           \\\n",
      "                                    Quantity   Sales Quantity    Sales   \n",
      "Manager       Rep           Product                                      \n",
      "Debra Henley  Craig Booker  CPU            2   65000      1.0  32500.0   \n",
      "              Daniel Hilton CPU            4  105000      2.0  52500.0   \n",
      "              John Smith    CPU            1   35000      1.0  35000.0   \n",
      "Fred Anderson Cedric Moss   CPU            3   95000      1.5  47500.0   \n",
      "              Wendy Yule    CPU            7  165000      3.5  82500.0   \n",
      "\n",
      "                                         min             max          \\\n",
      "                                    Quantity  Sales Quantity   Sales   \n",
      "Manager       Rep           Product                                    \n",
      "Debra Henley  Craig Booker  CPU            1  30000        1   35000   \n",
      "              Daniel Hilton CPU            2  40000        2   65000   \n",
      "              John Smith    CPU            1  35000        1   35000   \n",
      "Fred Anderson Cedric Moss   CPU            1  30000        2   65000   \n",
      "              Wendy Yule    CPU            2  65000        5  100000   \n",
      "\n",
      "                                          std                    var  \\\n",
      "                                     Quantity         Sales Quantity   \n",
      "Manager       Rep           Product                                    \n",
      "Debra Henley  Craig Booker  CPU      0.000000   3535.533906      0.0   \n",
      "              Daniel Hilton CPU      0.000000  17677.669530      0.0   \n",
      "              John Smith    CPU           NaN           NaN      NaN   \n",
      "Fred Anderson Cedric Moss   CPU      0.707107  24748.737342      0.5   \n",
      "              Wendy Yule    CPU      2.121320  24748.737342      4.5   \n",
      "\n",
      "                                                  \n",
      "                                           Sales  \n",
      "Manager       Rep           Product               \n",
      "Debra Henley  Craig Booker  CPU       12500000.0  \n",
      "              Daniel Hilton CPU      312500000.0  \n",
      "              John Smith    CPU              NaN  \n",
      "Fred Anderson Cedric Moss   CPU      612500000.0  \n",
      "              Wendy Yule    CPU      612500000.0  \n"
     ]
    }
   ],
   "source": [
    "filtered_pivot_table = pivot_table[pivot_table[('sum', 'Sales')] > 30000]\n",
    "print(filtered_pivot_table)"
   ]
  },
  {
   "cell_type": "code",
   "execution_count": 17,
   "id": "059fa514-e514-4594-9c8b-4c005ed102c1",
   "metadata": {},
   "outputs": [
    {
     "name": "stderr",
     "output_type": "stream",
     "text": [
      "C:\\Users\\Administrator\\AppData\\Local\\Temp\\ipykernel_552\\3350629715.py:1: FutureWarning: The provided callable <function sum at 0x0000011538B02B60> is currently using DataFrameGroupBy.sum. In a future version of pandas, the provided callable will be used directly. To keep current behavior pass the string \"sum\" instead.\n",
      "  pivot_table_2 = pd.pivot_table(data=df , values=[\"Sales\"], index=[\"Manager\",\"Status\"], aggfunc=[np.sum])\n"
     ]
    },
    {
     "data": {
      "text/html": [
       "<div>\n",
       "<style scoped>\n",
       "    .dataframe tbody tr th:only-of-type {\n",
       "        vertical-align: middle;\n",
       "    }\n",
       "\n",
       "    .dataframe tbody tr th {\n",
       "        vertical-align: top;\n",
       "    }\n",
       "\n",
       "    .dataframe thead tr th {\n",
       "        text-align: left;\n",
       "    }\n",
       "\n",
       "    .dataframe thead tr:last-of-type th {\n",
       "        text-align: right;\n",
       "    }\n",
       "</style>\n",
       "<table border=\"1\" class=\"dataframe\">\n",
       "  <thead>\n",
       "    <tr>\n",
       "      <th></th>\n",
       "      <th></th>\n",
       "      <th>sum</th>\n",
       "    </tr>\n",
       "    <tr>\n",
       "      <th></th>\n",
       "      <th></th>\n",
       "      <th>Sales</th>\n",
       "    </tr>\n",
       "    <tr>\n",
       "      <th>Manager</th>\n",
       "      <th>Status</th>\n",
       "      <th></th>\n",
       "    </tr>\n",
       "  </thead>\n",
       "  <tbody>\n",
       "    <tr>\n",
       "      <th rowspan=\"2\" valign=\"top\">Debra Henley</th>\n",
       "      <th>pending</th>\n",
       "      <td>50000</td>\n",
       "    </tr>\n",
       "    <tr>\n",
       "      <th>won</th>\n",
       "      <td>65000</td>\n",
       "    </tr>\n",
       "    <tr>\n",
       "      <th>Fred Anderson</th>\n",
       "      <th>won</th>\n",
       "      <td>172000</td>\n",
       "    </tr>\n",
       "  </tbody>\n",
       "</table>\n",
       "</div>"
      ],
      "text/plain": [
       "                          sum\n",
       "                        Sales\n",
       "Manager       Status         \n",
       "Debra Henley  pending   50000\n",
       "              won       65000\n",
       "Fred Anderson won      172000"
      ]
     },
     "execution_count": 17,
     "metadata": {},
     "output_type": "execute_result"
    }
   ],
   "source": [
    "pivot_table_2 = pd.pivot_table(data=df , values=[\"Sales\"], index=[\"Manager\",\"Status\"], aggfunc=[np.sum])\n",
    "#print(pivot_table_2)\n",
    "filtered_table_3 = pivot_table_2[pivot_table_2[('sum', 'Sales')] >= 50000]\n",
    "#print(filtered_table_3)\n",
    "\n",
    "filtered_table_3.query('Status == [\"pending\", \"won\"]')"
   ]
  },
  {
   "cell_type": "code",
   "execution_count": 18,
   "id": "2ae00a47-59c6-4b63-869b-666e51692733",
   "metadata": {},
   "outputs": [
    {
     "name": "stdout",
     "output_type": "stream",
     "text": [
      "                                         Quantity   Sales\n",
      "Manager       Rep           Product                      \n",
      "Debra Henley  Craig Booker  CPU                 2   65000\n",
      "                            Maintenance         2    5000\n",
      "                            Software            1   10000\n",
      "              Daniel Hilton CPU                 4  105000\n",
      "                            Software            1   10000\n",
      "              John Smith    CPU                 1   35000\n",
      "                            Maintenance         2    5000\n",
      "Fred Anderson Cedric Moss   CPU                 3   95000\n",
      "                            Maintenance         1    5000\n",
      "                            Software            1   10000\n",
      "              Wendy Yule    CPU                 7  165000\n",
      "                            Maintenance         3    7000\n",
      "                            Monitor             2    5000\n",
      "All                                            30  522000\n"
     ]
    },
    {
     "name": "stderr",
     "output_type": "stream",
     "text": [
      "C:\\Users\\Administrator\\AppData\\Local\\Temp\\ipykernel_552\\2403950228.py:1: FutureWarning: The provided callable <function sum at 0x0000011538B02B60> is currently using DataFrameGroupBy.sum. In a future version of pandas, the provided callable will be used directly. To keep current behavior pass the string \"sum\" instead.\n",
      "  pivot_table_4 = pd.pivot_table(data=df , values=[\"Quantity\",\"Sales\"], index=[\"Manager\",\"Rep\",\"Product\"], margins = True, aggfunc=np.sum)\n"
     ]
    },
    {
     "data": {
      "text/html": [
       "<div>\n",
       "<style scoped>\n",
       "    .dataframe tbody tr th:only-of-type {\n",
       "        vertical-align: middle;\n",
       "    }\n",
       "\n",
       "    .dataframe tbody tr th {\n",
       "        vertical-align: top;\n",
       "    }\n",
       "\n",
       "    .dataframe thead th {\n",
       "        text-align: right;\n",
       "    }\n",
       "</style>\n",
       "<table border=\"1\" class=\"dataframe\">\n",
       "  <thead>\n",
       "    <tr style=\"text-align: right;\">\n",
       "      <th></th>\n",
       "      <th></th>\n",
       "      <th></th>\n",
       "      <th>Quantity</th>\n",
       "      <th>Sales</th>\n",
       "    </tr>\n",
       "    <tr>\n",
       "      <th>Manager</th>\n",
       "      <th>Rep</th>\n",
       "      <th>Product</th>\n",
       "      <th></th>\n",
       "      <th></th>\n",
       "    </tr>\n",
       "  </thead>\n",
       "  <tbody>\n",
       "    <tr>\n",
       "      <th>Debra Henley</th>\n",
       "      <th>Daniel Hilton</th>\n",
       "      <th>CPU</th>\n",
       "      <td>4</td>\n",
       "      <td>105000</td>\n",
       "    </tr>\n",
       "    <tr>\n",
       "      <th>Fred Anderson</th>\n",
       "      <th>Wendy Yule</th>\n",
       "      <th>CPU</th>\n",
       "      <td>7</td>\n",
       "      <td>165000</td>\n",
       "    </tr>\n",
       "  </tbody>\n",
       "</table>\n",
       "</div>"
      ],
      "text/plain": [
       "                                     Quantity   Sales\n",
       "Manager       Rep           Product                  \n",
       "Debra Henley  Daniel Hilton CPU             4  105000\n",
       "Fred Anderson Wendy Yule    CPU             7  165000"
      ]
     },
     "execution_count": 18,
     "metadata": {},
     "output_type": "execute_result"
    }
   ],
   "source": [
    "pivot_table_4 = pd.pivot_table(data=df , values=[\"Quantity\",\"Sales\"], index=[\"Manager\",\"Rep\",\"Product\"], margins = True, aggfunc=np.sum)\n",
    "print(pivot_table_4)\n",
    "#pivot_table_4.query('Quantity > 3')\n",
    "pivot_table_4.query('Product == \"CPU\" & Sales > 100000')"
   ]
  },
  {
   "cell_type": "code",
   "execution_count": 19,
   "id": "280011d8-a62d-4b5e-ad77-b086e96cee33",
   "metadata": {},
   "outputs": [
    {
     "name": "stdout",
     "output_type": "stream",
     "text": [
      "                                         Quantity   Sales\n",
      "Manager       Rep           Product                      \n",
      "Debra Henley  Craig Booker  CPU                 2   65000\n",
      "                            Maintenance         2    5000\n",
      "                            Software            1   10000\n",
      "              Daniel Hilton CPU                 4  105000\n",
      "                            Software            1   10000\n",
      "              John Smith    CPU                 1   35000\n",
      "                            Maintenance         2    5000\n",
      "Fred Anderson Cedric Moss   CPU                 3   95000\n",
      "                            Maintenance         1    5000\n",
      "                            Software            1   10000\n",
      "              Wendy Yule    CPU                 7  165000\n",
      "                            Maintenance         3    7000\n",
      "                            Monitor             2    5000\n",
      "All                                            30  522000\n"
     ]
    },
    {
     "name": "stderr",
     "output_type": "stream",
     "text": [
      "C:\\Users\\Administrator\\AppData\\Local\\Temp\\ipykernel_552\\797262890.py:1: FutureWarning: The provided callable <function sum at 0x0000011538B02B60> is currently using DataFrameGroupBy.sum. In a future version of pandas, the provided callable will be used directly. To keep current behavior pass the string \"sum\" instead.\n",
      "  pivot_table_5 = pd.pivot_table(data=df , values=[\"Quantity\",\"Sales\"], index=[\"Manager\",\"Rep\",\"Product\"], fill_value = 0, margins = True, aggfunc=np.sum)\n"
     ]
    },
    {
     "data": {
      "text/html": [
       "<div>\n",
       "<style scoped>\n",
       "    .dataframe tbody tr th:only-of-type {\n",
       "        vertical-align: middle;\n",
       "    }\n",
       "\n",
       "    .dataframe tbody tr th {\n",
       "        vertical-align: top;\n",
       "    }\n",
       "\n",
       "    .dataframe thead th {\n",
       "        text-align: right;\n",
       "    }\n",
       "</style>\n",
       "<table border=\"1\" class=\"dataframe\">\n",
       "  <thead>\n",
       "    <tr style=\"text-align: right;\">\n",
       "      <th></th>\n",
       "      <th></th>\n",
       "      <th></th>\n",
       "      <th>Quantity</th>\n",
       "      <th>Sales</th>\n",
       "    </tr>\n",
       "    <tr>\n",
       "      <th>Manager</th>\n",
       "      <th>Rep</th>\n",
       "      <th>Product</th>\n",
       "      <th></th>\n",
       "      <th></th>\n",
       "    </tr>\n",
       "  </thead>\n",
       "  <tbody>\n",
       "    <tr>\n",
       "      <th rowspan=\"4\" valign=\"top\">Debra Henley</th>\n",
       "      <th rowspan=\"2\" valign=\"top\">Craig Booker</th>\n",
       "      <th>Maintenance</th>\n",
       "      <td>2</td>\n",
       "      <td>5000</td>\n",
       "    </tr>\n",
       "    <tr>\n",
       "      <th>Software</th>\n",
       "      <td>1</td>\n",
       "      <td>10000</td>\n",
       "    </tr>\n",
       "    <tr>\n",
       "      <th>Daniel Hilton</th>\n",
       "      <th>Software</th>\n",
       "      <td>1</td>\n",
       "      <td>10000</td>\n",
       "    </tr>\n",
       "    <tr>\n",
       "      <th>John Smith</th>\n",
       "      <th>Maintenance</th>\n",
       "      <td>2</td>\n",
       "      <td>5000</td>\n",
       "    </tr>\n",
       "    <tr>\n",
       "      <th rowspan=\"4\" valign=\"top\">Fred Anderson</th>\n",
       "      <th rowspan=\"2\" valign=\"top\">Cedric Moss</th>\n",
       "      <th>Maintenance</th>\n",
       "      <td>1</td>\n",
       "      <td>5000</td>\n",
       "    </tr>\n",
       "    <tr>\n",
       "      <th>Software</th>\n",
       "      <td>1</td>\n",
       "      <td>10000</td>\n",
       "    </tr>\n",
       "    <tr>\n",
       "      <th rowspan=\"2\" valign=\"top\">Wendy Yule</th>\n",
       "      <th>Maintenance</th>\n",
       "      <td>3</td>\n",
       "      <td>7000</td>\n",
       "    </tr>\n",
       "    <tr>\n",
       "      <th>Monitor</th>\n",
       "      <td>2</td>\n",
       "      <td>5000</td>\n",
       "    </tr>\n",
       "  </tbody>\n",
       "</table>\n",
       "</div>"
      ],
      "text/plain": [
       "                                         Quantity  Sales\n",
       "Manager       Rep           Product                     \n",
       "Debra Henley  Craig Booker  Maintenance         2   5000\n",
       "                            Software            1  10000\n",
       "              Daniel Hilton Software            1  10000\n",
       "              John Smith    Maintenance         2   5000\n",
       "Fred Anderson Cedric Moss   Maintenance         1   5000\n",
       "                            Software            1  10000\n",
       "              Wendy Yule    Maintenance         3   7000\n",
       "                            Monitor             2   5000"
      ]
     },
     "execution_count": 19,
     "metadata": {},
     "output_type": "execute_result"
    }
   ],
   "source": [
    "pivot_table_5 = pd.pivot_table(data=df , values=[\"Quantity\",\"Sales\"], index=[\"Manager\",\"Rep\",\"Product\"], fill_value = 0, margins = True, aggfunc=np.sum)\n",
    "print(pivot_table_5)\n",
    "pivot_table_5.query('Sales >= 5000 & Sales <= 10000')"
   ]
  },
  {
   "cell_type": "code",
   "execution_count": null,
   "id": "bdc03758-a88f-40ec-a153-85b6eb70a533",
   "metadata": {},
   "outputs": [],
   "source": []
  }
 ],
 "metadata": {
  "kernelspec": {
   "display_name": "Python 3 (ipykernel)",
   "language": "python",
   "name": "python3"
  },
  "language_info": {
   "codemirror_mode": {
    "name": "ipython",
    "version": 3
   },
   "file_extension": ".py",
   "mimetype": "text/x-python",
   "name": "python",
   "nbconvert_exporter": "python",
   "pygments_lexer": "ipython3",
   "version": "3.12.4"
  }
 },
 "nbformat": 4,
 "nbformat_minor": 5
}
