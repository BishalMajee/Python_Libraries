{
 "cells": [
  {
   "cell_type": "markdown",
   "id": "862124e5",
   "metadata": {},
   "source": [
    "### Read the content from the below file and after reading the content using sparse matrix remove all the 0 values then display the content."
   ]
  },
  {
   "cell_type": "code",
   "execution_count": 6,
   "id": "97f4a559",
   "metadata": {},
   "outputs": [
    {
     "data": {
      "text/html": [
       "<div>\n",
       "<style scoped>\n",
       "    .dataframe tbody tr th:only-of-type {\n",
       "        vertical-align: middle;\n",
       "    }\n",
       "\n",
       "    .dataframe tbody tr th {\n",
       "        vertical-align: top;\n",
       "    }\n",
       "\n",
       "    .dataframe thead th {\n",
       "        text-align: right;\n",
       "    }\n",
       "</style>\n",
       "<table border=\"1\" class=\"dataframe\">\n",
       "  <thead>\n",
       "    <tr style=\"text-align: right;\">\n",
       "      <th></th>\n",
       "      <th>Age</th>\n",
       "      <th>Height</th>\n",
       "      <th>Width</th>\n",
       "      <th>Weight</th>\n",
       "    </tr>\n",
       "  </thead>\n",
       "  <tbody>\n",
       "    <tr>\n",
       "      <th>0</th>\n",
       "      <td>0.095410</td>\n",
       "      <td>0.449451</td>\n",
       "      <td>0.00000</td>\n",
       "      <td>0.668841</td>\n",
       "    </tr>\n",
       "    <tr>\n",
       "      <th>1</th>\n",
       "      <td>0.000000</td>\n",
       "      <td>0.000000</td>\n",
       "      <td>0.00000</td>\n",
       "      <td>0.721730</td>\n",
       "    </tr>\n",
       "    <tr>\n",
       "      <th>2</th>\n",
       "      <td>0.000000</td>\n",
       "      <td>0.848914</td>\n",
       "      <td>0.91496</td>\n",
       "      <td>0.000000</td>\n",
       "    </tr>\n",
       "    <tr>\n",
       "      <th>3</th>\n",
       "      <td>0.000000</td>\n",
       "      <td>0.000000</td>\n",
       "      <td>0.00000</td>\n",
       "      <td>0.591298</td>\n",
       "    </tr>\n",
       "    <tr>\n",
       "      <th>4</th>\n",
       "      <td>0.561243</td>\n",
       "      <td>0.000000</td>\n",
       "      <td>0.00000</td>\n",
       "      <td>0.000000</td>\n",
       "    </tr>\n",
       "    <tr>\n",
       "      <th>5</th>\n",
       "      <td>0.000000</td>\n",
       "      <td>0.000000</td>\n",
       "      <td>0.00000</td>\n",
       "      <td>0.000000</td>\n",
       "    </tr>\n",
       "    <tr>\n",
       "      <th>6</th>\n",
       "      <td>0.000000</td>\n",
       "      <td>0.000000</td>\n",
       "      <td>0.00000</td>\n",
       "      <td>0.000000</td>\n",
       "    </tr>\n",
       "    <tr>\n",
       "      <th>7</th>\n",
       "      <td>0.000000</td>\n",
       "      <td>0.000000</td>\n",
       "      <td>0.00000</td>\n",
       "      <td>0.000000</td>\n",
       "    </tr>\n",
       "    <tr>\n",
       "      <th>8</th>\n",
       "      <td>0.000000</td>\n",
       "      <td>0.370818</td>\n",
       "      <td>0.00000</td>\n",
       "      <td>0.000000</td>\n",
       "    </tr>\n",
       "    <tr>\n",
       "      <th>9</th>\n",
       "      <td>0.000000</td>\n",
       "      <td>0.000000</td>\n",
       "      <td>0.00000</td>\n",
       "      <td>0.651077</td>\n",
       "    </tr>\n",
       "  </tbody>\n",
       "</table>\n",
       "</div>"
      ],
      "text/plain": [
       "        Age    Height    Width    Weight\n",
       "0  0.095410  0.449451  0.00000  0.668841\n",
       "1  0.000000  0.000000  0.00000  0.721730\n",
       "2  0.000000  0.848914  0.91496  0.000000\n",
       "3  0.000000  0.000000  0.00000  0.591298\n",
       "4  0.561243  0.000000  0.00000  0.000000\n",
       "5  0.000000  0.000000  0.00000  0.000000\n",
       "6  0.000000  0.000000  0.00000  0.000000\n",
       "7  0.000000  0.000000  0.00000  0.000000\n",
       "8  0.000000  0.370818  0.00000  0.000000\n",
       "9  0.000000  0.000000  0.00000  0.651077"
      ]
     },
     "execution_count": 6,
     "metadata": {},
     "output_type": "execute_result"
    }
   ],
   "source": [
    "df =pd.read_csv(r\"https://raw.githubusercontent.com/AnudipAE/DANLC/master/client_details.csv\")\n",
    "df"
   ]
  },
  {
   "cell_type": "code",
   "execution_count": 4,
   "id": "fd331a02",
   "metadata": {},
   "outputs": [
    {
     "name": "stdout",
     "output_type": "stream",
     "text": [
      "   Row  Column     Value\n",
      "0    0       0  0.095410\n",
      "1    0       1  0.449451\n",
      "2    0       3  0.668841\n",
      "3    1       3  0.721730\n",
      "4    2       1  0.848914\n",
      "5    2       2  0.914960\n",
      "6    3       3  0.591298\n",
      "7    4       0  0.561243\n",
      "8    8       1  0.370818\n",
      "9    9       3  0.651077\n"
     ]
    }
   ],
   "source": [
    "import pandas as pd\n",
    "import numpy as np\n",
    "from scipy.sparse import csr_matrix\n",
    "\n",
    "\n",
    "\n",
    "# Read the data into a DataFrame\n",
    "df =pd.read_csv(r\"https://raw.githubusercontent.com/AnudipAE/DANLC/master/client_details.csv\")\n",
    "  \n",
    "\n",
    "# Convert to sparse matrix\n",
    "sparse_matrix = csr_matrix(df.values)\n",
    "\n",
    "# Get the non-zero values and their corresponding indices\n",
    "rows, cols = sparse_matrix.nonzero()\n",
    "non_zero_values = sparse_matrix.data\n",
    "\n",
    "# Create a new DataFrame to display non-zero values\n",
    "result_df = pd.DataFrame({\n",
    "    'Row': rows,\n",
    "    'Column': cols,\n",
    "    'Value': non_zero_values\n",
    "})\n",
    "\n",
    "# Display the result\n",
    "print(result_df)\n",
    "\n"
   ]
  },
  {
   "cell_type": "markdown",
   "id": "86cfee9a",
   "metadata": {},
   "source": [
    "### 2: Calculate the correlation between the number of hours students spend studying and their corresponding exam scores. Add your conclusion also."
   ]
  },
  {
   "cell_type": "code",
   "execution_count": 10,
   "id": "abfb7410",
   "metadata": {},
   "outputs": [
    {
     "name": "stdout",
     "output_type": "stream",
     "text": [
      "Correlation coefficient: 0.8771\n"
     ]
    }
   ],
   "source": [
    "import pandas as pd\n",
    "import numpy as np\n",
    "# Create DataFrame\n",
    "\n",
    "df = pd.read_csv(r\"https://raw.githubusercontent.com/AnudipAE/DANLC/master/study_data.csv\")\n",
    "\n",
    "# Calculate correlation\n",
    "correlation = df['Hours_Studied'].corr(df['Exam_Scores'])\n",
    "\n",
    "print(f\"Correlation coefficient: {correlation:.4f}\")"
   ]
  },
  {
   "cell_type": "code",
   "execution_count": null,
   "id": "8894c526",
   "metadata": {},
   "outputs": [],
   "source": []
  }
 ],
 "metadata": {
  "kernelspec": {
   "display_name": "Python 3 (ipykernel)",
   "language": "python",
   "name": "python3"
  },
  "language_info": {
   "codemirror_mode": {
    "name": "ipython",
    "version": 3
   },
   "file_extension": ".py",
   "mimetype": "text/x-python",
   "name": "python",
   "nbconvert_exporter": "python",
   "pygments_lexer": "ipython3",
   "version": "3.11.5"
  }
 },
 "nbformat": 4,
 "nbformat_minor": 5
}
